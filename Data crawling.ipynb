{
 "cells": [
  {
   "cell_type": "code",
   "execution_count": null,
   "id": "b76855d3",
   "metadata": {},
   "outputs": [],
   "source": [
    "Suggesting a customer where to buy( Flipkart or Amazon) a specific product by *MAVERICK_GR*"
   ]
  },
  {
   "cell_type": "code",
   "execution_count": 1,
   "id": "72c16c0e",
   "metadata": {},
   "outputs": [],
   "source": [
    "import math\n",
    "import bs4\n",
    "import re\n",
    "from bs4 import BeautifulSoup\n",
    "from collections import OrderedDict\n",
    "import urllib.request as url"
   ]
  },
  {
   "cell_type": "code",
   "execution_count": 2,
   "id": "6708bfcd",
   "metadata": {},
   "outputs": [],
   "source": [
    "def flipkart(product):\n",
    "    global title_flip,o_f, s_f, dis_f, path_1\n",
    "    try:\n",
    "        path_1 = 'https://www.flipkart.com/search?q={}'.format(product)\n",
    "        #print(path_1)\n",
    "        response = url.urlopen(path_1)\n",
    "        source = bs4.BeautifulSoup(response)\n",
    "        title_flip = source.find('div', class_='_4rR01T')\n",
    "        s_price = source.find('div', class_='_30jeq3 _1_WHN1')\n",
    "        o_price = source.find('div', class_='_3I9_wc _27UcVY')\n",
    "        s_1 = s_price.text\n",
    "        o_1 = o_price.text\n",
    "        s_2 = s_1[1:]\n",
    "        o_2 = o_1[1:]\n",
    "        s_2 = s_2.replace(\",\",\"\")\n",
    "        o_2 = o_2.replace(\",\",\"\")\n",
    "        o_f = float(o_2)\n",
    "        s_f = float(s_2)\n",
    "        dis_f = ((o_f-s_f)/o_f)*100\n",
    "        dis_f = math.floor(dis_f)  \n",
    "    except:\n",
    "        o_f = s_f = dis_f= None\n",
    "    "
   ]
  },
  {
   "cell_type": "code",
   "execution_count": 3,
   "id": "b84f58ce",
   "metadata": {},
   "outputs": [],
   "source": [
    "def disp_flipkart():\n",
    "    print(\"Search results from FLIPKART\")\n",
    "    print(\"-\" * 80)\n",
    "    if o_f == None or s_f == None or dis_f == None :\n",
    "        print(\"No such product\")\n",
    "    else:\n",
    "        print(\"The Product is:{} \".format(title_flip.text))\n",
    "        print(\"The original price is Rs:{}\".format(o_f))\n",
    "        print(\"The selling price is Rs:{}\".format(s_f))\n",
    "        print(\"The discount offered on the product is :{}%\".format(dis_f))\n",
    "        print(\"-\" * 80 )"
   ]
  },
  {
   "cell_type": "code",
   "execution_count": 4,
   "id": "e422b144",
   "metadata": {},
   "outputs": [],
   "source": [
    "def amazon(product):\n",
    "    global title_amz, o_a, s_a, dis_a, path_2\n",
    "    try:\n",
    "        path_2 = 'https://www.amazon.in/s?k={}'.format(product)\n",
    "        #print(path_2)\n",
    "        response = url.urlopen(path_2)\n",
    "        source = bs4.BeautifulSoup(response)\n",
    "        title_amz = source.find('span', class_='a-size-medium a-color-base a-text-normal')\n",
    "        s_price = source.find('span', class_='a-price-whole')\n",
    "        o_1 = source.find('span', class_='a-price a-text-price')\n",
    "        o_1 = o_1.find('span')\n",
    "        s_1 = s_price.text\n",
    "        s_2 = s_1[:]\n",
    "        s_2 = s_2.replace(\",\",\"\")\n",
    "        s_a = float(s_2)\n",
    "        o_1 = o_1.text\n",
    "        o_2 = o_1[1:]\n",
    "        o_2 = o_2.replace(\",\",\"\")\n",
    "        o_a = float(o_2) \n",
    "        dis_a = ((o_a-s_a)/o_a)*100\n",
    "        dis_a = math.floor(dis_a)\n",
    "    except:\n",
    "        o_a = s_a = dis_a = None"
   ]
  },
  {
   "cell_type": "code",
   "execution_count": 5,
   "id": "4bd66e35",
   "metadata": {},
   "outputs": [],
   "source": [
    "def disp_amazon():\n",
    "    print(\"Search results from AMAZON\")\n",
    "    print(\"-\" * 80)\n",
    "    if title_amz == None :\n",
    "        print(\"No such product\")\n",
    "    else:\n",
    "        print(\"The Product is:{} \".format(title_amz.text))\n",
    "        print(\"The original price is Rs:{}\".format(o_a))\n",
    "        print(\"The selling price is Rs:{}\".format(s_a))\n",
    "        print(\"The discount offered on the product is :{}%\".format(dis_a))"
   ]
  },
  {
   "cell_type": "code",
   "execution_count": 6,
   "id": "6a2c7420",
   "metadata": {},
   "outputs": [],
   "source": [
    "def verdict():\n",
    "    print(\"Comparing product price @ FLIPKART and AMAZON......\\n\")\n",
    "    print(\"Suggestion to the customer.......\\n\")\n",
    "    if title_amz != None :\n",
    "        if s_f < s_a:\n",
    "            print(\"Selling price on FLIPKART is comparatively less.Hence, buy here...\")\n",
    "            print(path_1)\n",
    "            print(\"You will save Rs:{} on your purchase\".format(s_a-s_f))              \n",
    "        elif s_a < s_f:\n",
    "            print(\"Selling price on AMAZON is comparatively less.Hence, buy here...\")\n",
    "            print(path_2)\n",
    "            print(\"You will save Rs:{} on your purchase\".format(s_f-s_a)) \n",
    "        else:\n",
    "            print(\"Same price.... buy at any market...\")\n",
    "    else:\n",
    "        print(\"SORRY!!! No such product\")"
   ]
  },
  {
   "cell_type": "code",
   "execution_count": 7,
   "id": "9f7b05a4",
   "metadata": {
    "scrolled": true
   },
   "outputs": [
    {
     "name": "stdout",
     "output_type": "stream",
     "text": [
      "Enter a product of your choice:Iphone 14\n",
      "********************************************************************************\n",
      "You are looking for :: Iphone 14\n",
      "--------------------------------------------------------------------------------\n",
      "Comparing product price @ FLIPKART and AMAZON......\n",
      "\n",
      "Suggestion to the customer.......\n",
      "\n",
      "Selling price on AMAZON is comparatively less.Hence, buy here...\n",
      "https://www.amazon.in/s?k=Iphone+14\n",
      "You will save Rs:1000.0 on your purchase\n",
      "--------------------------------------------------------------------------------\n",
      "--------------------------------------------------------------------------------\n",
      "Would you like a detailed price comparision ( Y or N):Y\n",
      "--------------------------------------------------------------------------------\n",
      "Search results from FLIPKART\n",
      "--------------------------------------------------------------------------------\n",
      "The Product is:APPLE iPhone 14 (Midnight, 128 GB) \n",
      "The original price is Rs:79900.0\n",
      "The selling price is Rs:71999.0\n",
      "The discount offered on the product is :9%\n",
      "--------------------------------------------------------------------------------\n",
      "Search results from AMAZON\n",
      "--------------------------------------------------------------------------------\n",
      "The Product is:Apple iPhone 14 (128 GB) - (Product) RED \n",
      "The original price is Rs:79900.0\n",
      "The selling price is Rs:70999.0\n",
      "The discount offered on the product is :11%\n"
     ]
    }
   ],
   "source": [
    "prod = input(\"Enter a product of your choice:\")\n",
    "print(\"*\" * 80)\n",
    "print(\"You are looking for :: {}\".format(prod))\n",
    "print(\"-\" * 80)\n",
    "prod = prod.replace(\" \",\"+\")\n",
    "flipkart(prod)\n",
    "amazon(prod)\n",
    "verdict()\n",
    "print(\"-\" * 80)\n",
    "print(\"-\" * 80)\n",
    "choice = input(\"Would you like a detailed price comparision ( Y or N):\")\n",
    "print(\"-\" * 80)\n",
    "if choice == 'Y' or choice == 'y':\n",
    "    disp_flipkart()\n",
    "    disp_amazon()\n",
    "else:\n",
    "    print(\"Happy shopping :-)\")\n"
   ]
  }
 ],
 "metadata": {
  "kernelspec": {
   "display_name": "Python 3",
   "language": "python",
   "name": "python3"
  },
  "language_info": {
   "codemirror_mode": {
    "name": "ipython",
    "version": 3
   },
   "file_extension": ".py",
   "mimetype": "text/x-python",
   "name": "python",
   "nbconvert_exporter": "python",
   "pygments_lexer": "ipython3",
   "version": "3.7.9"
  }
 },
 "nbformat": 4,
 "nbformat_minor": 5
}
