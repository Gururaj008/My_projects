{
 "cells": [
  {
   "cell_type": "markdown",
   "metadata": {
    "id": "_sIcFuxm8l8u"
   },
   "source": [
    "Book Recommendation engine by *MAVERICK_GR*"
   ]
  },
  {
   "cell_type": "code",
   "execution_count": 1,
   "metadata": {
    "colab": {
     "base_uri": "https://localhost:8080/"
    },
    "id": "n96LI2gu0dgp",
    "outputId": "c716907e-3123-461b-d30f-c673ec6b8065"
   },
   "outputs": [
    {
     "name": "stdout",
     "output_type": "stream",
     "text": [
      "Setup complete\n"
     ]
    }
   ],
   "source": [
    "#import necessary libraries\n",
    "import pandas as pd\n",
    "import numpy as np\n",
    "import warnings\n",
    "warnings.filterwarnings('ignore')\n",
    "from sklearn.metrics.pairwise import cosine_similarity\n",
    "from sklearn.feature_extraction.text import CountVectorizer\n",
    "import random\n",
    "print('Setup complete')"
   ]
  },
  {
   "cell_type": "code",
   "execution_count": 2,
   "metadata": {
    "colab": {
     "base_uri": "https://localhost:8080/",
     "height": 478
    },
    "id": "ea82EJMq5uMk",
    "outputId": "2c28debc-05b0-464a-ddf1-db51a1612b1b"
   },
   "outputs": [
    {
     "data": {
      "text/html": [
       "<div>\n",
       "<style scoped>\n",
       "    .dataframe tbody tr th:only-of-type {\n",
       "        vertical-align: middle;\n",
       "    }\n",
       "\n",
       "    .dataframe tbody tr th {\n",
       "        vertical-align: top;\n",
       "    }\n",
       "\n",
       "    .dataframe thead th {\n",
       "        text-align: right;\n",
       "    }\n",
       "</style>\n",
       "<table border=\"1\" class=\"dataframe\">\n",
       "  <thead>\n",
       "    <tr style=\"text-align: right;\">\n",
       "      <th></th>\n",
       "      <th>ISBN</th>\n",
       "      <th>Book-Title</th>\n",
       "      <th>Book-Author</th>\n",
       "      <th>Year-Of-Publication</th>\n",
       "      <th>Publisher</th>\n",
       "      <th>Image-URL-S</th>\n",
       "      <th>Image-URL-M</th>\n",
       "      <th>Image-URL-L</th>\n",
       "    </tr>\n",
       "  </thead>\n",
       "  <tbody>\n",
       "    <tr>\n",
       "      <th>0</th>\n",
       "      <td>195153448</td>\n",
       "      <td>Classical Mythology</td>\n",
       "      <td>Mark P. O. Morford</td>\n",
       "      <td>2002</td>\n",
       "      <td>Oxford University Press</td>\n",
       "      <td>http://images.amazon.com/images/P/0195153448.0...</td>\n",
       "      <td>http://images.amazon.com/images/P/0195153448.0...</td>\n",
       "      <td>http://images.amazon.com/images/P/0195153448.0...</td>\n",
       "    </tr>\n",
       "    <tr>\n",
       "      <th>1</th>\n",
       "      <td>2005018</td>\n",
       "      <td>Clara Callan</td>\n",
       "      <td>Richard Bruce Wright</td>\n",
       "      <td>2001</td>\n",
       "      <td>HarperFlamingo Canada</td>\n",
       "      <td>http://images.amazon.com/images/P/0002005018.0...</td>\n",
       "      <td>http://images.amazon.com/images/P/0002005018.0...</td>\n",
       "      <td>http://images.amazon.com/images/P/0002005018.0...</td>\n",
       "    </tr>\n",
       "  </tbody>\n",
       "</table>\n",
       "</div>"
      ],
      "text/plain": [
       "        ISBN           Book-Title           Book-Author Year-Of-Publication  \\\n",
       "0  195153448  Classical Mythology    Mark P. O. Morford                2002   \n",
       "1    2005018         Clara Callan  Richard Bruce Wright                2001   \n",
       "\n",
       "                 Publisher                                        Image-URL-S  \\\n",
       "0  Oxford University Press  http://images.amazon.com/images/P/0195153448.0...   \n",
       "1    HarperFlamingo Canada  http://images.amazon.com/images/P/0002005018.0...   \n",
       "\n",
       "                                         Image-URL-M  \\\n",
       "0  http://images.amazon.com/images/P/0195153448.0...   \n",
       "1  http://images.amazon.com/images/P/0002005018.0...   \n",
       "\n",
       "                                         Image-URL-L  \n",
       "0  http://images.amazon.com/images/P/0195153448.0...  \n",
       "1  http://images.amazon.com/images/P/0002005018.0...  "
      ]
     },
     "execution_count": 2,
     "metadata": {},
     "output_type": "execute_result"
    }
   ],
   "source": [
    "#Read the books dataset\n",
    "df = pd.read_csv('C:\\MLCourse\\Books.csv')\n",
    "df.head(2)"
   ]
  },
  {
   "cell_type": "code",
   "execution_count": 3,
   "metadata": {
    "colab": {
     "base_uri": "https://localhost:8080/"
    },
    "id": "jEIg3A9n58Ps",
    "outputId": "c1c9a9fa-6a40-42be-fa9d-c2ce3b9619bb"
   },
   "outputs": [
    {
     "data": {
      "text/plain": [
       "(271360, 8)"
      ]
     },
     "execution_count": 3,
     "metadata": {},
     "output_type": "execute_result"
    }
   ],
   "source": [
    "#Check the size of the dataframe\n",
    "df.shape"
   ]
  },
  {
   "cell_type": "code",
   "execution_count": 4,
   "metadata": {
    "colab": {
     "base_uri": "https://localhost:8080/"
    },
    "id": "IYCypB9e6Cbq",
    "outputId": "22073c38-df00-4673-c6d1-bb808eebb684"
   },
   "outputs": [
    {
     "data": {
      "text/plain": [
       "False    271360\n",
       "Name: ISBN, dtype: int64"
      ]
     },
     "execution_count": 4,
     "metadata": {},
     "output_type": "execute_result"
    }
   ],
   "source": [
    "#Check for any duplicate ISBNs\n",
    "df['ISBN'].duplicated().value_counts()"
   ]
  },
  {
   "cell_type": "code",
   "execution_count": 5,
   "metadata": {
    "id": "8FXgPXli6GUy"
   },
   "outputs": [],
   "source": [
    "#Drop unnecessary features\n",
    "df = df.drop(['ISBN','Year-Of-Publication','Image-URL-S', 'Image-URL-M', 'Image-URL-L'],axis=1)"
   ]
  },
  {
   "cell_type": "code",
   "execution_count": 6,
   "metadata": {
    "colab": {
     "base_uri": "https://localhost:8080/"
    },
    "id": "yZalM2nS6HiS",
    "outputId": "ad95e8c4-2b11-48b2-b783-f5a5f196d161"
   },
   "outputs": [
    {
     "data": {
      "text/plain": [
       "(27136, 3)"
      ]
     },
     "execution_count": 6,
     "metadata": {},
     "output_type": "execute_result"
    }
   ],
   "source": [
    "#Reducing the size of the dataframe so that we dont face any memory issues later\n",
    "#Randomly choosing 10% of the original data\n",
    "df_new = df.sample(frac=0.1)\n",
    "df_new.shape"
   ]
  },
  {
   "cell_type": "code",
   "execution_count": 7,
   "metadata": {
    "id": "HCxn5gqU6MHW"
   },
   "outputs": [
    {
     "data": {
      "text/plain": [
       "Book-Title     0\n",
       "Book-Author    0\n",
       "Publisher      0\n",
       "dtype: int64"
      ]
     },
     "execution_count": 7,
     "metadata": {},
     "output_type": "execute_result"
    }
   ],
   "source": [
    "#Drop any null values\n",
    "df_new.isna().sum()"
   ]
  },
  {
   "cell_type": "code",
   "execution_count": 8,
   "metadata": {
    "id": "-7Ibkh9Z6NCo"
   },
   "outputs": [],
   "source": [
    "#Drop the existing index and create a new for the current subset of dataframe\n",
    "df_new = df_new.reset_index(drop=True)\n",
    "df_new['Book_id'] = np.arange(df_new.shape[0])"
   ]
  },
  {
   "cell_type": "code",
   "execution_count": 9,
   "metadata": {
    "id": "_W9byJa16RQ_"
   },
   "outputs": [],
   "source": [
    "#Grab the necessary features \n",
    "def collect_features(data):\n",
    "    features = []\n",
    "    for i in range(0,data.shape[0]):\n",
    "        features.append(str(data['Book-Title'][i])+' '+str(data['Book-Author'][i])+' '+str(data['Publisher'][i]))\n",
    "    return features"
   ]
  },
  {
   "cell_type": "code",
   "execution_count": 10,
   "metadata": {
    "colab": {
     "base_uri": "https://localhost:8080/"
    },
    "id": "V8vn7wLi6SaP",
    "outputId": "3c45309f-1ace-429b-b35b-ddaf9515c019"
   },
   "outputs": [
    {
     "data": {
      "text/html": [
       "<div>\n",
       "<style scoped>\n",
       "    .dataframe tbody tr th:only-of-type {\n",
       "        vertical-align: middle;\n",
       "    }\n",
       "\n",
       "    .dataframe tbody tr th {\n",
       "        vertical-align: top;\n",
       "    }\n",
       "\n",
       "    .dataframe thead th {\n",
       "        text-align: right;\n",
       "    }\n",
       "</style>\n",
       "<table border=\"1\" class=\"dataframe\">\n",
       "  <thead>\n",
       "    <tr style=\"text-align: right;\">\n",
       "      <th></th>\n",
       "      <th>Book-Title</th>\n",
       "      <th>Book-Author</th>\n",
       "      <th>Publisher</th>\n",
       "      <th>Book_id</th>\n",
       "      <th>feature</th>\n",
       "    </tr>\n",
       "  </thead>\n",
       "  <tbody>\n",
       "    <tr>\n",
       "      <th>0</th>\n",
       "      <td>Just Annoying!</td>\n",
       "      <td>Andy Griffiths</td>\n",
       "      <td>Pan Books Ltd</td>\n",
       "      <td>0</td>\n",
       "      <td>Just Annoying! Andy Griffiths Pan Books Ltd</td>\n",
       "    </tr>\n",
       "    <tr>\n",
       "      <th>1</th>\n",
       "      <td>The New Low-Country Cooking: 125 Recipes for C...</td>\n",
       "      <td>Marvin Woods</td>\n",
       "      <td>Morrow Cookbooks</td>\n",
       "      <td>1</td>\n",
       "      <td>The New Low-Country Cooking: 125 Recipes for C...</td>\n",
       "    </tr>\n",
       "    <tr>\n",
       "      <th>2</th>\n",
       "      <td>Kiss of the Highlander</td>\n",
       "      <td>Karen Marie Moning</td>\n",
       "      <td>Dell Publishing</td>\n",
       "      <td>2</td>\n",
       "      <td>Kiss of the Highlander Karen Marie Moning Dell...</td>\n",
       "    </tr>\n",
       "    <tr>\n",
       "      <th>3</th>\n",
       "      <td>The New Essential Guide to Characters (Star Wars)</td>\n",
       "      <td>Daniel Wallace</td>\n",
       "      <td>Del Rey Books</td>\n",
       "      <td>3</td>\n",
       "      <td>The New Essential Guide to Characters (Star Wa...</td>\n",
       "    </tr>\n",
       "    <tr>\n",
       "      <th>4</th>\n",
       "      <td>A Game of Chance (Zebra Regency Romance)</td>\n",
       "      <td>Lynn Collum</td>\n",
       "      <td>Zebra Books</td>\n",
       "      <td>4</td>\n",
       "      <td>A Game of Chance (Zebra Regency Romance) Lynn ...</td>\n",
       "    </tr>\n",
       "  </tbody>\n",
       "</table>\n",
       "</div>"
      ],
      "text/plain": [
       "                                          Book-Title         Book-Author  \\\n",
       "0                                     Just Annoying!      Andy Griffiths   \n",
       "1  The New Low-Country Cooking: 125 Recipes for C...        Marvin Woods   \n",
       "2                             Kiss of the Highlander  Karen Marie Moning   \n",
       "3  The New Essential Guide to Characters (Star Wars)      Daniel Wallace   \n",
       "4           A Game of Chance (Zebra Regency Romance)         Lynn Collum   \n",
       "\n",
       "          Publisher  Book_id  \\\n",
       "0     Pan Books Ltd        0   \n",
       "1  Morrow Cookbooks        1   \n",
       "2   Dell Publishing        2   \n",
       "3     Del Rey Books        3   \n",
       "4       Zebra Books        4   \n",
       "\n",
       "                                             feature  \n",
       "0        Just Annoying! Andy Griffiths Pan Books Ltd  \n",
       "1  The New Low-Country Cooking: 125 Recipes for C...  \n",
       "2  Kiss of the Highlander Karen Marie Moning Dell...  \n",
       "3  The New Essential Guide to Characters (Star Wa...  \n",
       "4  A Game of Chance (Zebra Regency Romance) Lynn ...  "
      ]
     },
     "execution_count": 10,
     "metadata": {},
     "output_type": "execute_result"
    }
   ],
   "source": [
    "#Create a new column with accumilated features\n",
    "df_new['feature'] = collect_features(df_new)\n",
    "df_new.head()\n"
   ]
  },
  {
   "cell_type": "code",
   "execution_count": 11,
   "metadata": {
    "colab": {
     "base_uri": "https://localhost:8080/",
     "height": 354
    },
    "id": "7UtVBia06Vv3",
    "outputId": "49338bd0-d609-41bc-e0fa-57d3092ef6d8"
   },
   "outputs": [],
   "source": [
    "#Apply the countvectorizer to the feature column\n",
    "cv = CountVectorizer().fit_transform(df_new['feature'])"
   ]
  },
  {
   "cell_type": "code",
   "execution_count": 12,
   "metadata": {
    "id": "idvGmOdb6Yb_"
   },
   "outputs": [],
   "source": [
    "#Find the cosine similarity\n",
    "cs = cosine_similarity(cv)"
   ]
  },
  {
   "cell_type": "code",
   "execution_count": 13,
   "metadata": {
    "id": "k0KwAIYz6bkW"
   },
   "outputs": [
    {
     "name": "stdout",
     "output_type": "stream",
     "text": [
      "[[1.         0.         0.         ... 0.         0.         0.        ]\n",
      " [0.         1.         0.0745356  ... 0.06454972 0.07071068 0.        ]\n",
      " [0.         0.0745356  1.         ... 0.09622504 0.10540926 0.23570226]\n",
      " ...\n",
      " [0.         0.06454972 0.09622504 ... 1.         0.09128709 0.        ]\n",
      " [0.         0.07071068 0.10540926 ... 0.09128709 1.         0.        ]\n",
      " [0.         0.         0.23570226 ... 0.         0.         1.        ]]\n"
     ]
    }
   ],
   "source": [
    "#Print the cosine similarity\n",
    "print(cs)"
   ]
  },
  {
   "cell_type": "code",
   "execution_count": 14,
   "metadata": {
    "id": "RJZGeejL6qdb"
   },
   "outputs": [
    {
     "name": "stdout",
     "output_type": "stream",
     "text": [
      "8672 Bad Girls of the Bible : And What We Can Learn from Them\n",
      "12270 Goodbye Dear Friend: Coming to Terms With the Death of a Pet\n",
      "4070 AT DEATHS DOOR\n",
      "5263 Les jolies choses: Roman\n",
      "14737 God Came Near\n",
      "26051 Harry and Hortense at Hormone High (Charlotte Zolotow Book)\n",
      "7943 The Imagination of the Heart\n",
      "25177 YOU BELONG TO ME LARGE PRINT EDITION\n",
      "5893 Dream Date\n"
     ]
    }
   ],
   "source": [
    "#Giving user choices to choose from 10 random books\n",
    "#Randomly printing 10 different books eachtime\n",
    "books = df_new['Book-Title']\n",
    "for i in range(0,9):\n",
    "    book = random.choice(books)\n",
    "    book_id = df_new.loc[df_new['Book-Title'] == book, 'Book_id'].iloc[0]\n",
    "    print(book_id, book)\n",
    "    i = i +1"
   ]
  },
  {
   "cell_type": "code",
   "execution_count": 15,
   "metadata": {
    "id": "Vq8AJ34L6ukv"
   },
   "outputs": [
    {
     "name": "stdout",
     "output_type": "stream",
     "text": [
      "Enter the book-ID of your choice:5893\n"
     ]
    }
   ],
   "source": [
    "#Ask user to chose a book and enter the corresponding book-id\n",
    "Book_id = input('Enter the book-ID of your choice:')"
   ]
  },
  {
   "cell_type": "code",
   "execution_count": 16,
   "metadata": {
    "id": "kHaOzy-78AqK"
   },
   "outputs": [],
   "source": [
    "#Find the cosine similarity score for the corresponding book\n",
    "scores = list(enumerate(cs[int(Book_id)]))"
   ]
  },
  {
   "cell_type": "code",
   "execution_count": 17,
   "metadata": {
    "id": "C2xSbZaZ8Fjr"
   },
   "outputs": [],
   "source": [
    "#Sort the scores in descending order and remove the book itself from the list\n",
    "sorted_scores = sorted(scores, key = lambda x:x[1], reverse=True)\n",
    "sorted_scores = sorted_scores[1:]"
   ]
  },
  {
   "cell_type": "code",
   "execution_count": 18,
   "metadata": {
    "id": "hzhf8H7s8INF"
   },
   "outputs": [
    {
     "name": "stdout",
     "output_type": "stream",
     "text": [
      "The 5 most recommended books similar to your choice are:::\n",
      "\n",
      "1 The Waitress (Point)\n",
      "2 Hiawatha\n",
      "3 Smith: Killers of the Dream Revised (Paper)\n",
      "4 Dream Team 1996 Scrapbook\n",
      "5 I Have a Dream\n"
     ]
    }
   ],
   "source": [
    "#Printing the list of 05 most recommended books which are similar to user's choice\n",
    "j=0\n",
    "print('The 5 most recommended books similar to your choice are:::\\n')\n",
    "for i in sorted_scores:\n",
    "    book_title = df_new[df_new['Book_id'] == i[0]]['Book-Title'].values[0]\n",
    "    print(j+1 , book_title)\n",
    "    j = j + 1\n",
    "    if (j>=5):\n",
    "        break"
   ]
  }
 ],
 "metadata": {
  "colab": {
   "provenance": []
  },
  "kernelspec": {
   "display_name": "Python 3",
   "language": "python",
   "name": "python3"
  },
  "language_info": {
   "codemirror_mode": {
    "name": "ipython",
    "version": 3
   },
   "file_extension": ".py",
   "mimetype": "text/x-python",
   "name": "python",
   "nbconvert_exporter": "python",
   "pygments_lexer": "ipython3",
   "version": "3.7.9"
  }
 },
 "nbformat": 4,
 "nbformat_minor": 1
}
