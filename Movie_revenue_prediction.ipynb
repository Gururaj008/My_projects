{
 "cells": [
  {
   "cell_type": "code",
   "execution_count": 1,
   "metadata": {
    "colab": {
     "base_uri": "https://localhost:8080/"
    },
    "id": "QtFyjsBoNHA9",
    "outputId": "2c8cab73-095f-4824-9727-3a890053dd52"
   },
   "outputs": [
    {
     "name": "stdout",
     "output_type": "stream",
     "text": [
      "Setup complete\n"
     ]
    }
   ],
   "source": [
    "# import all necessary libraries\n",
    "import pandas as pd\n",
    "import numpy as np\n",
    "from sklearn.preprocessing import StandardScaler, PolynomialFeatures\n",
    "from sklearn.model_selection import train_test_split\n",
    "from sklearn.ensemble import RandomForestRegressor\n",
    "from sklearn.metrics import r2_score\n",
    "from sklearn.linear_model import ridge_regression,Ridge,LinearRegression\n",
    "from sklearn.tree import DecisionTreeRegressor\n",
    "from sklearn.svm import SVR\n",
    "import xgboost as xg\n",
    "import warnings\n",
    "warnings.filterwarnings('ignore')\n",
    "print('Setup complete')"
   ]
  },
  {
   "cell_type": "code",
   "execution_count": 2,
   "metadata": {
    "id": "YMYNCsTlQI2P"
   },
   "outputs": [
    {
     "data": {
      "text/html": [
       "<div>\n",
       "<style scoped>\n",
       "    .dataframe tbody tr th:only-of-type {\n",
       "        vertical-align: middle;\n",
       "    }\n",
       "\n",
       "    .dataframe tbody tr th {\n",
       "        vertical-align: top;\n",
       "    }\n",
       "\n",
       "    .dataframe thead th {\n",
       "        text-align: right;\n",
       "    }\n",
       "</style>\n",
       "<table border=\"1\" class=\"dataframe\">\n",
       "  <thead>\n",
       "    <tr style=\"text-align: right;\">\n",
       "      <th></th>\n",
       "      <th>name</th>\n",
       "      <th>rating</th>\n",
       "      <th>genre</th>\n",
       "      <th>year</th>\n",
       "      <th>released</th>\n",
       "      <th>score</th>\n",
       "      <th>votes</th>\n",
       "      <th>director</th>\n",
       "      <th>writer</th>\n",
       "      <th>star</th>\n",
       "      <th>country</th>\n",
       "      <th>budget</th>\n",
       "      <th>gross</th>\n",
       "      <th>company</th>\n",
       "      <th>runtime</th>\n",
       "    </tr>\n",
       "  </thead>\n",
       "  <tbody>\n",
       "    <tr>\n",
       "      <th>0</th>\n",
       "      <td>The Shining</td>\n",
       "      <td>R</td>\n",
       "      <td>Drama</td>\n",
       "      <td>1980</td>\n",
       "      <td>June 13, 1980 (United States)</td>\n",
       "      <td>8.4</td>\n",
       "      <td>927000.0</td>\n",
       "      <td>Stanley Kubrick</td>\n",
       "      <td>Stephen King</td>\n",
       "      <td>Jack Nicholson</td>\n",
       "      <td>United Kingdom</td>\n",
       "      <td>19000000.0</td>\n",
       "      <td>46998772.0</td>\n",
       "      <td>Warner Bros.</td>\n",
       "      <td>146.0</td>\n",
       "    </tr>\n",
       "    <tr>\n",
       "      <th>1</th>\n",
       "      <td>The Blue Lagoon</td>\n",
       "      <td>R</td>\n",
       "      <td>Adventure</td>\n",
       "      <td>1980</td>\n",
       "      <td>July 2, 1980 (United States)</td>\n",
       "      <td>5.8</td>\n",
       "      <td>65000.0</td>\n",
       "      <td>Randal Kleiser</td>\n",
       "      <td>Henry De Vere Stacpoole</td>\n",
       "      <td>Brooke Shields</td>\n",
       "      <td>United States</td>\n",
       "      <td>4500000.0</td>\n",
       "      <td>58853106.0</td>\n",
       "      <td>Columbia Pictures</td>\n",
       "      <td>104.0</td>\n",
       "    </tr>\n",
       "  </tbody>\n",
       "</table>\n",
       "</div>"
      ],
      "text/plain": [
       "              name rating      genre  year                       released  \\\n",
       "0      The Shining      R      Drama  1980  June 13, 1980 (United States)   \n",
       "1  The Blue Lagoon      R  Adventure  1980   July 2, 1980 (United States)   \n",
       "\n",
       "   score     votes         director                   writer            star  \\\n",
       "0    8.4  927000.0  Stanley Kubrick             Stephen King  Jack Nicholson   \n",
       "1    5.8   65000.0   Randal Kleiser  Henry De Vere Stacpoole  Brooke Shields   \n",
       "\n",
       "          country      budget       gross            company  runtime  \n",
       "0  United Kingdom  19000000.0  46998772.0       Warner Bros.    146.0  \n",
       "1   United States   4500000.0  58853106.0  Columbia Pictures    104.0  "
      ]
     },
     "execution_count": 2,
     "metadata": {},
     "output_type": "execute_result"
    }
   ],
   "source": [
    "# Load the csv file into dataframe\n",
    "df = pd.read_csv('C:\\MLCourse\\movies.csv')\n",
    "df.head(2)"
   ]
  },
  {
   "cell_type": "code",
   "execution_count": 3,
   "metadata": {
    "colab": {
     "base_uri": "https://localhost:8080/"
    },
    "id": "wAKiENAjQlhq",
    "outputId": "d6881be1-dd17-44b8-a294-7ed6763929c5"
   },
   "outputs": [
    {
     "data": {
      "text/plain": [
       "name           0\n",
       "rating        77\n",
       "genre          0\n",
       "year           0\n",
       "released       2\n",
       "score          3\n",
       "votes          3\n",
       "director       0\n",
       "writer         3\n",
       "star           1\n",
       "country        3\n",
       "budget      2171\n",
       "gross        189\n",
       "company       17\n",
       "runtime        4\n",
       "dtype: int64"
      ]
     },
     "execution_count": 3,
     "metadata": {},
     "output_type": "execute_result"
    }
   ],
   "source": [
    "# Check for any null values \n",
    "df.isnull().sum()"
   ]
  },
  {
   "cell_type": "code",
   "execution_count": 4,
   "metadata": {
    "id": "uRDpEL-lQqsq"
   },
   "outputs": [],
   "source": [
    "# Inorder to maintain the sanctity of the data, dropping the rows with null values\n",
    "df = df.dropna(axis=0)\n",
    "df = df.reset_index()"
   ]
  },
  {
   "cell_type": "code",
   "execution_count": 5,
   "metadata": {
    "colab": {
     "base_uri": "https://localhost:8080/"
    },
    "id": "puBwBq1UQ3eU",
    "outputId": "083f6a57-25c9-4123-a145-daf0bdb1f382"
   },
   "outputs": [
    {
     "data": {
      "text/plain": [
       "0"
      ]
     },
     "execution_count": 5,
     "metadata": {},
     "output_type": "execute_result"
    }
   ],
   "source": [
    "# Recheck for any null values\n",
    "df.isnull().any().sum()"
   ]
  },
  {
   "cell_type": "code",
   "execution_count": 6,
   "metadata": {
    "colab": {
     "base_uri": "https://localhost:8080/"
    },
    "id": "bn-QED_QRGMc",
    "outputId": "8e1bd053-4d95-4bbe-da2d-c2b9e96be157"
   },
   "outputs": [
    {
     "data": {
      "text/plain": [
       "(5421, 16)"
      ]
     },
     "execution_count": 6,
     "metadata": {},
     "output_type": "execute_result"
    }
   ],
   "source": [
    "# Check the shape of the dataframe after dropping null values\n",
    "df.shape"
   ]
  },
  {
   "cell_type": "code",
   "execution_count": 7,
   "metadata": {
    "colab": {
     "base_uri": "https://localhost:8080/",
     "height": 269
    },
    "id": "PVWjsczTRSMb",
    "outputId": "cbd478ec-8136-4fdb-8f07-be80862dea5b"
   },
   "outputs": [
    {
     "data": {
      "text/html": [
       "<div>\n",
       "<style scoped>\n",
       "    .dataframe tbody tr th:only-of-type {\n",
       "        vertical-align: middle;\n",
       "    }\n",
       "\n",
       "    .dataframe tbody tr th {\n",
       "        vertical-align: top;\n",
       "    }\n",
       "\n",
       "    .dataframe thead th {\n",
       "        text-align: right;\n",
       "    }\n",
       "</style>\n",
       "<table border=\"1\" class=\"dataframe\">\n",
       "  <thead>\n",
       "    <tr style=\"text-align: right;\">\n",
       "      <th></th>\n",
       "      <th>index</th>\n",
       "      <th>year</th>\n",
       "      <th>score</th>\n",
       "      <th>votes</th>\n",
       "      <th>budget</th>\n",
       "      <th>gross</th>\n",
       "      <th>runtime</th>\n",
       "    </tr>\n",
       "  </thead>\n",
       "  <tbody>\n",
       "    <tr>\n",
       "      <th>index</th>\n",
       "      <td>1.000000</td>\n",
       "      <td>0.999522</td>\n",
       "      <td>0.046493</td>\n",
       "      <td>0.192525</td>\n",
       "      <td>0.319194</td>\n",
       "      <td>0.264121</td>\n",
       "      <td>0.067925</td>\n",
       "    </tr>\n",
       "    <tr>\n",
       "      <th>year</th>\n",
       "      <td>0.999522</td>\n",
       "      <td>1.000000</td>\n",
       "      <td>0.056386</td>\n",
       "      <td>0.206021</td>\n",
       "      <td>0.327722</td>\n",
       "      <td>0.274321</td>\n",
       "      <td>0.075077</td>\n",
       "    </tr>\n",
       "    <tr>\n",
       "      <th>score</th>\n",
       "      <td>0.046493</td>\n",
       "      <td>0.056386</td>\n",
       "      <td>1.000000</td>\n",
       "      <td>0.474256</td>\n",
       "      <td>0.072001</td>\n",
       "      <td>0.222556</td>\n",
       "      <td>0.414068</td>\n",
       "    </tr>\n",
       "    <tr>\n",
       "      <th>votes</th>\n",
       "      <td>0.192525</td>\n",
       "      <td>0.206021</td>\n",
       "      <td>0.474256</td>\n",
       "      <td>1.000000</td>\n",
       "      <td>0.439675</td>\n",
       "      <td>0.614751</td>\n",
       "      <td>0.352303</td>\n",
       "    </tr>\n",
       "    <tr>\n",
       "      <th>budget</th>\n",
       "      <td>0.319194</td>\n",
       "      <td>0.327722</td>\n",
       "      <td>0.072001</td>\n",
       "      <td>0.439675</td>\n",
       "      <td>1.000000</td>\n",
       "      <td>0.740247</td>\n",
       "      <td>0.318695</td>\n",
       "    </tr>\n",
       "    <tr>\n",
       "      <th>gross</th>\n",
       "      <td>0.264121</td>\n",
       "      <td>0.274321</td>\n",
       "      <td>0.222556</td>\n",
       "      <td>0.614751</td>\n",
       "      <td>0.740247</td>\n",
       "      <td>1.000000</td>\n",
       "      <td>0.275796</td>\n",
       "    </tr>\n",
       "    <tr>\n",
       "      <th>runtime</th>\n",
       "      <td>0.067925</td>\n",
       "      <td>0.075077</td>\n",
       "      <td>0.414068</td>\n",
       "      <td>0.352303</td>\n",
       "      <td>0.318695</td>\n",
       "      <td>0.275796</td>\n",
       "      <td>1.000000</td>\n",
       "    </tr>\n",
       "  </tbody>\n",
       "</table>\n",
       "</div>"
      ],
      "text/plain": [
       "            index      year     score     votes    budget     gross   runtime\n",
       "index    1.000000  0.999522  0.046493  0.192525  0.319194  0.264121  0.067925\n",
       "year     0.999522  1.000000  0.056386  0.206021  0.327722  0.274321  0.075077\n",
       "score    0.046493  0.056386  1.000000  0.474256  0.072001  0.222556  0.414068\n",
       "votes    0.192525  0.206021  0.474256  1.000000  0.439675  0.614751  0.352303\n",
       "budget   0.319194  0.327722  0.072001  0.439675  1.000000  0.740247  0.318695\n",
       "gross    0.264121  0.274321  0.222556  0.614751  0.740247  1.000000  0.275796\n",
       "runtime  0.067925  0.075077  0.414068  0.352303  0.318695  0.275796  1.000000"
      ]
     },
     "execution_count": 7,
     "metadata": {},
     "output_type": "execute_result"
    }
   ],
   "source": [
    "# Check for correlation among the features\n",
    "df.corr()"
   ]
  },
  {
   "cell_type": "code",
   "execution_count": 8,
   "metadata": {
    "id": "2MIk6pR5RdU6"
   },
   "outputs": [],
   "source": [
    "# Creating a new column 'id'\n",
    "df['id'] = np.arange(5421)"
   ]
  },
  {
   "cell_type": "code",
   "execution_count": 9,
   "metadata": {
    "colab": {
     "base_uri": "https://localhost:8080/"
    },
    "id": "T2cBwxSFRrCR",
    "outputId": "c12f3435-a2f4-44f5-d75c-c963067d86d2"
   },
   "outputs": [
    {
     "data": {
      "text/plain": [
       "index         int64\n",
       "name         object\n",
       "rating       object\n",
       "genre        object\n",
       "year          int64\n",
       "released     object\n",
       "score       float64\n",
       "votes       float64\n",
       "director     object\n",
       "writer       object\n",
       "star         object\n",
       "country      object\n",
       "budget      float64\n",
       "gross       float64\n",
       "company      object\n",
       "runtime     float64\n",
       "id            int32\n",
       "dtype: object"
      ]
     },
     "execution_count": 9,
     "metadata": {},
     "output_type": "execute_result"
    }
   ],
   "source": [
    "# Check the datatype of features\n",
    "df.dtypes"
   ]
  },
  {
   "cell_type": "code",
   "execution_count": 10,
   "metadata": {
    "id": "5hjjf0jCR1eq"
   },
   "outputs": [],
   "source": [
    "# Perform one hot encoding on rating and genre\n",
    "oh = pd.get_dummies(df[['rating','genre']])\n",
    "df_new = pd.concat([df,oh],axis=1)"
   ]
  },
  {
   "cell_type": "code",
   "execution_count": 11,
   "metadata": {
    "id": "LJKIus3kR_bM"
   },
   "outputs": [],
   "source": [
    "# Drop the unnecessary features\n",
    "df_new = df_new.drop(['index','name','rating', 'genre','released','star',\n",
    "                      'director', 'writer',  'country','company'],axis=1)"
   ]
  },
  {
   "cell_type": "code",
   "execution_count": 12,
   "metadata": {
    "colab": {
     "base_uri": "https://localhost:8080/"
    },
    "id": "IMfeYDMcSES8",
    "outputId": "2c61fc58-d94c-43a5-f45d-523942d916a6"
   },
   "outputs": [
    {
     "data": {
      "text/plain": [
       "Index(['year', 'score', 'votes', 'budget', 'gross', 'runtime', 'id',\n",
       "       'rating_Approved', 'rating_G', 'rating_NC-17', 'rating_Not Rated',\n",
       "       'rating_PG', 'rating_PG-13', 'rating_R', 'rating_TV-MA',\n",
       "       'rating_Unrated', 'rating_X', 'genre_Action', 'genre_Adventure',\n",
       "       'genre_Animation', 'genre_Biography', 'genre_Comedy', 'genre_Crime',\n",
       "       'genre_Drama', 'genre_Family', 'genre_Fantasy', 'genre_Horror',\n",
       "       'genre_Mystery', 'genre_Romance', 'genre_Sci-Fi', 'genre_Thriller',\n",
       "       'genre_Western'],\n",
       "      dtype='object')"
      ]
     },
     "execution_count": 12,
     "metadata": {},
     "output_type": "execute_result"
    }
   ],
   "source": [
    "# Print the column names of the new dataframe\n",
    "df_new.columns"
   ]
  },
  {
   "cell_type": "code",
   "execution_count": 13,
   "metadata": {
    "id": "xuzcXPRhSKXT"
   },
   "outputs": [],
   "source": [
    "# Rearrange the columns\n",
    "df_new = df_new[['id','year', 'score', 'votes','budget', 'gross', 'runtime',\n",
    "       'rating_Approved', 'rating_G', 'rating_NC-17', 'rating_Not Rated',\n",
    "       'rating_PG', 'rating_PG-13', 'rating_R', 'rating_TV-MA',\n",
    "       'rating_Unrated', 'rating_X', 'genre_Action', 'genre_Adventure',\n",
    "       'genre_Animation', 'genre_Biography', 'genre_Comedy', 'genre_Crime',\n",
    "       'genre_Drama', 'genre_Family', 'genre_Fantasy', 'genre_Horror',\n",
    "       'genre_Mystery', 'genre_Romance', 'genre_Sci-Fi', 'genre_Thriller',\n",
    "       'genre_Western']]"
   ]
  },
  {
   "cell_type": "code",
   "execution_count": 14,
   "metadata": {
    "id": "dstyjL5mSRH8"
   },
   "outputs": [],
   "source": [
    "# Set features and target variables\n",
    "X = df_new[['id','year', 'score', 'votes', 'runtime','budget',\n",
    "       'rating_Approved', 'rating_G', 'rating_NC-17', 'rating_Not Rated',\n",
    "       'rating_PG', 'rating_PG-13', 'rating_R', 'rating_TV-MA',\n",
    "       'rating_Unrated', 'rating_X', 'genre_Action', 'genre_Adventure',\n",
    "       'genre_Animation', 'genre_Biography', 'genre_Comedy', 'genre_Crime',\n",
    "       'genre_Drama', 'genre_Family', 'genre_Fantasy', 'genre_Horror',\n",
    "       'genre_Mystery', 'genre_Romance', 'genre_Sci-Fi', 'genre_Thriller',\n",
    "       'genre_Western']]\n",
    "y = df_new['gross']"
   ]
  },
  {
   "cell_type": "code",
   "execution_count": 15,
   "metadata": {
    "id": "M-HQp-M5SYuu"
   },
   "outputs": [],
   "source": [
    "# Perform standard scaling\n",
    "sc = StandardScaler()\n",
    "X = sc.fit_transform(X)\n",
    "y = sc.fit_transform(y.values.reshape(-1,1))"
   ]
  },
  {
   "cell_type": "code",
   "execution_count": 16,
   "metadata": {
    "id": "rFDQ3rTZSdrj"
   },
   "outputs": [],
   "source": [
    "# Perform train-test split\n",
    "X_train,X_test,y_train,y_test = train_test_split(X,y,test_size=0.30, random_state=42)"
   ]
  },
  {
   "cell_type": "code",
   "execution_count": 17,
   "metadata": {
    "colab": {
     "base_uri": "https://localhost:8080/"
    },
    "id": "p6uBnS0rSpYz",
    "outputId": "b49030d8-8f62-45d1-cad5-9f3054464afc"
   },
   "outputs": [
    {
     "name": "stdout",
     "output_type": "stream",
     "text": [
      "Accuracy of the RandomForestRegressor model is 78.12%\n"
     ]
    }
   ],
   "source": [
    "# Random Forest Regressor\n",
    "rf = RandomForestRegressor(n_estimators=200,criterion=\"mse\",max_depth=10, random_state=42)\n",
    "model_rf = rf.fit(X_train,y_train)\n",
    "y_pred_rf = model_rf.predict(X_test)\n",
    "acc_rf = r2_score(y_test,y_pred_rf)\n",
    "acc_rf = acc_rf*100\n",
    "print(r\"Accuracy of the RandomForestRegressor model is {:.2f}%\".format(acc_rf))"
   ]
  },
  {
   "cell_type": "code",
   "execution_count": 18,
   "metadata": {
    "colab": {
     "base_uri": "https://localhost:8080/"
    },
    "id": "VNog1suQSjEQ",
    "outputId": "9b34d3b2-dbf1-4daf-da29-664258bc5c4e"
   },
   "outputs": [
    {
     "name": "stdout",
     "output_type": "stream",
     "text": [
      "Accuracy of the DecisionTreeRegressor model is 70.35%\n"
     ]
    }
   ],
   "source": [
    "# Decision Tree Regressor\n",
    "dt = DecisionTreeRegressor(criterion='mse',max_depth=5,max_features=\"auto\",random_state=42)\n",
    "dt.fit(X_train, y_train)\n",
    "y_pred_dt = dt.predict(X_test)\n",
    "acc_dt = r2_score(y_test, y_pred_dt)\n",
    "acc_dt = acc_dt*100\n",
    "print(r\"Accuracy of the DecisionTreeRegressor model is {:.2f}%\".format(acc_dt))"
   ]
  },
  {
   "cell_type": "code",
   "execution_count": 19,
   "metadata": {
    "colab": {
     "base_uri": "https://localhost:8080/"
    },
    "id": "BgdU6_VBS8lt",
    "outputId": "a1eb989b-2009-4851-e1c5-55e3162779ba"
   },
   "outputs": [
    {
     "name": "stdout",
     "output_type": "stream",
     "text": [
      "Accuracy of the RidgeRegressor model is 67.08%\n"
     ]
    }
   ],
   "source": [
    "# Ridge Regressor\n",
    "model_R = Ridge(alpha=2.0,random_state=42)\n",
    "model_R.fit(X_train,y_train)\n",
    "y_pred_R = model_R.predict(X_test)\n",
    "acc_R = r2_score(y_test,y_pred_R)\n",
    "acc_R = acc_R*100\n",
    "print(r\"Accuracy of the RidgeRegressor model is {:.2f}%\".format(acc_R))"
   ]
  },
  {
   "cell_type": "code",
   "execution_count": 20,
   "metadata": {
    "colab": {
     "base_uri": "https://localhost:8080/"
    },
    "id": "G62S6tVOZ_ZP",
    "outputId": "d56d8e33-8208-4c0e-acbb-bb4f69a74114"
   },
   "outputs": [
    {
     "name": "stdout",
     "output_type": "stream",
     "text": [
      "Accuracy of the XGBRegressor model is 79.28%\n"
     ]
    }
   ],
   "source": [
    "# XGBoost Regressor\n",
    "xgb_r = xg.XGBRegressor(objective ='reg:squarederror',n_estimators = 200, learning_rate=0.1)\n",
    "xgb_r.fit(X_train, y_train)\n",
    "y_pred_xgbr = xgb_r.predict(X_test)\n",
    "acc_xgbr = r2_score(y_test,y_pred_xgbr)\n",
    "acc_xgbr = acc_xgbr*100\n",
    "print(r\"Accuracy of the XGBRegressor model is {:.2f}%\".format(acc_xgbr))"
   ]
  },
  {
   "cell_type": "markdown",
   "metadata": {
    "id": "aYaHgmbCTWC8"
   },
   "source": [
    "For the given dataset **XGBoost Regressor** is providing the best accuracy"
   ]
  }
 ],
 "metadata": {
  "colab": {
   "provenance": []
  },
  "kernelspec": {
   "display_name": "Python 3",
   "language": "python",
   "name": "python3"
  },
  "language_info": {
   "codemirror_mode": {
    "name": "ipython",
    "version": 3
   },
   "file_extension": ".py",
   "mimetype": "text/x-python",
   "name": "python",
   "nbconvert_exporter": "python",
   "pygments_lexer": "ipython3",
   "version": "3.7.9"
  }
 },
 "nbformat": 4,
 "nbformat_minor": 1
}
